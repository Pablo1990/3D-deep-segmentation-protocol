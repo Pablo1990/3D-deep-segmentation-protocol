{
 "cells": [
  {
   "metadata": {},
   "cell_type": "markdown",
   "source": [
    "# 3D deep segmentation protocol\n",
    "Explain"
   ],
   "id": "8a77807f92f26ee"
  },
  {
   "metadata": {},
   "cell_type": "raw",
   "source": [
    "## Segmentation Pipeline\n",
    "1. Cellpose\n",
    "2. Denoising not helping \n",
    "3. Finetuning \n",
    "4. Segmentation evaluation metrics \n",
    "5. Tracking as custom stitching"
   ],
   "id": "71572809fc855ef1"
  },
  {
   "metadata": {},
   "cell_type": "markdown",
   "source": [
    "### Initial segmentation: Cellpose\n",
    "Cellpose is a deep learning algorithm that can segment cells in 2D and 3D."
   ],
   "id": "d53f45f9e8e9b48a"
  },
  {
   "metadata": {},
   "cell_type": "markdown",
   "source": [
    "### Improving raw images for segmentation: Denoising\n",
    "A very common approach to improve classical segmentation algorithms is to denoise the images. This is done by applying a filter to the images that removes the noise while preserving the structures of interest.\n",
    "We have tried different denoising algorithms, but none of them improved the segmentation results.\n",
    "#### Deconvolution\n",
    "\n",
    "#### Pytorch3D UNet\n"
   ],
   "id": "243fc0c892c8b223"
  },
  {
   "metadata": {},
   "cell_type": "code",
   "outputs": [],
   "execution_count": null,
   "source": "",
   "id": "5f386f5f537b848d"
  },
  {
   "metadata": {},
   "cell_type": "code",
   "outputs": [],
   "execution_count": null,
   "source": "print(\"Helo World!\")\n",
   "id": "fbc121e30a2defb3"
  }
 ],
 "metadata": {
  "kernelspec": {
   "display_name": "Python 3",
   "language": "python",
   "name": "python3"
  },
  "language_info": {
   "codemirror_mode": {
    "name": "ipython",
    "version": 2
   },
   "file_extension": ".py",
   "mimetype": "text/x-python",
   "name": "python",
   "nbconvert_exporter": "python",
   "pygments_lexer": "ipython2",
   "version": "2.7.6"
  }
 },
 "nbformat": 4,
 "nbformat_minor": 5
}
