{
 "cells": [
  {
   "metadata": {},
   "cell_type": "markdown",
   "source": [
    "# 3D deep segmentation protocol\n",
    "Explain"
   ],
   "id": "8a77807f92f26ee"
  },
  {
   "metadata": {},
   "cell_type": "markdown",
   "source": [
    "## Segmentation Pipeline\n",
    "0. Installation setup\n",
    "1. Cellpose\n",
    "2. Denoising not helping \n",
    "3. Finetuning \n",
    "4. Segmentation evaluation metrics \n",
    "5. Tracking as custom stitching"
   ],
   "id": "e5640bc1d7b67ea"
  },
  {
   "metadata": {},
   "cell_type": "markdown",
   "source": "## 0. Installation setup",
   "id": "ee521904b9d9b9db"
  },
  {
   "metadata": {
    "jupyter": {
     "is_executing": true
    },
    "ExecuteTime": {
     "start_time": "2024-10-28T10:33:08.259916Z"
    }
   },
   "cell_type": "code",
   "source": "!conda create --name cellpose python=3.10",
   "id": "857d3571fb48f223",
   "outputs": [
    {
     "name": "stdout",
     "output_type": "stream",
     "text": [
      "Retrieving notices: ...working... done\r\n",
      "Collecting package metadata (current_repodata.json): / "
     ]
    }
   ],
   "execution_count": null
  },
  {
   "metadata": {},
   "cell_type": "code",
   "outputs": [],
   "execution_count": null,
   "source": "!conda activate cellpose",
   "id": "a56c809cc4da91e9"
  },
  {
   "metadata": {},
   "cell_type": "code",
   "outputs": [],
   "execution_count": null,
   "source": "!python -m pip install cellpose[gui]",
   "id": "24a8bb8b85798066"
  },
  {
   "metadata": {},
   "cell_type": "markdown",
   "source": "For more information and troubleshooting, please refer to the [Github](https://github.com/MouseLand/cellpose) and [Cellpose documentation](https://cellpose.readthedocs.io/en/latest/installation.html).\n",
   "id": "33fcd54f23e0a6de"
  },
  {
   "metadata": {},
   "cell_type": "markdown",
   "source": [
    "## 1. Initial segmentation: Cellpose\n",
    "Cellpose is a deep learning algorithm that can segment cells in 2D and 3D."
   ],
   "id": "32c9dfb39ab320c9"
  },
  {
   "metadata": {},
   "cell_type": "code",
   "outputs": [],
   "execution_count": null,
   "source": "",
   "id": "3845b13b5f872dd3"
  },
  {
   "metadata": {},
   "cell_type": "markdown",
   "source": [
    "## 2. Improving raw images for segmentation: Denoising\n",
    "A very common approach to improve classical segmentation algorithms is to denoise the images. This is done by applying a filter to the images that removes the noise while preserving the structures of interest.\n",
    "We have tried different denoising algorithms, but none of them improved the segmentation results.\n",
    "### Deconvolution\n",
    "\n",
    "### Pytorch3D UNet\n"
   ],
   "id": "243fc0c892c8b223"
  },
  {
   "metadata": {},
   "cell_type": "markdown",
   "source": [
    "## 3. Refining the segmentation: Cellpose fine-tuning\n",
    "Cellpose fine-tuning is a feature that allows you to improve the segmentation results by training a new model on your own data."
   ],
   "id": "4ba724fc3a4a4387"
  },
  {
   "metadata": {},
   "cell_type": "markdown",
   "source": [
    "\n",
    "## 4. Segmentation evaluation metrics: biology-based\n",
    "Common metrics used to evaluate the quality of a segmentation are: IoU (Intersection over Union), Dice coefficient, ... However, these metrics are not always suitable for biological images. We have developed a new metric that is more biologically relevant. It also helped us to improve the segmentation results from our manual annotations.\n"
   ],
   "id": "ee6939a4e2a67119"
  },
  {
   "metadata": {},
   "cell_type": "markdown",
   "source": [
    "## 5.Tracking cells in 3D: custom stitching method\n",
    "We still had issues with our segmentation results, especially when cells were touching each other. Therefore, we used TrackMate to track cells in 3D and then stitched the cells together. This allowed us to obtain a more accurate segmentation of the cells."
   ],
   "id": "93f6c96734da66ae"
  },
  {
   "metadata": {},
   "cell_type": "code",
   "outputs": [],
   "execution_count": null,
   "source": "print(\"Helo World!\")\n",
   "id": "fbc121e30a2defb3"
  }
 ],
 "metadata": {
  "kernelspec": {
   "display_name": "Python 3",
   "language": "python",
   "name": "python3"
  },
  "language_info": {
   "codemirror_mode": {
    "name": "ipython",
    "version": 2
   },
   "file_extension": ".py",
   "mimetype": "text/x-python",
   "name": "python",
   "nbconvert_exporter": "python",
   "pygments_lexer": "ipython2",
   "version": "2.7.6"
  }
 },
 "nbformat": 4,
 "nbformat_minor": 5
}
