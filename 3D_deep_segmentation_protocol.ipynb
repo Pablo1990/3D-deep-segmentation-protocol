{
  "cells": [
    {
      "cell_type": "markdown",
      "metadata": {
        "id": "view-in-github",
        "colab_type": "text"
      },
      "source": [
        "<a href=\"https://colab.research.google.com/github/Pablo1990/3D-deep-segmentation-protocol/blob/main/3D_deep_segmentation_protocol.ipynb\" target=\"_parent\"><img src=\"https://colab.research.google.com/assets/colab-badge.svg\" alt=\"Open In Colab\"/></a>"
      ]
    },
    {
      "cell_type": "markdown",
      "metadata": {
        "id": "Q7c7V4yEqDc_"
      },
      "source": [
        "# 3D deep segmentation protocol\n",
        "#### By Paci and Vicente-Munuera et al., 2025\n",
        "\n",
        "Here, we explain the 3D segmentation protocol for deep tissues (especifically, the *Drosophila* wing disc) with the following steps:\n",
        "0.   [Installation setup](#scrollTo=IvyuR08OZfw4)\n",
        "1.   [Initial segmentation: cellpose](#scrollTo=R7Zz3cKE6UMG)\n",
        "2.   [Improving raw images for segmentation: Denoising](#scrollTo=35eTukvj_HSv)\n",
        "3.   [Automated corrections: Tracking cells in 3D with TrackMate in FIJI](#scrollTo=3-up0gcY_a9O)\n",
        "4.   [Manual segmentation](#scrollTo=IyW0d9L-lV3M)\n",
        "5.   [Refining the segmentation: Cellpose fine-tuning](#scrollTo=L7DxZhik4aQd)\n",
        "\n",
        "This notebook was inspired by Cellpose 2.0 notebook (https://github.com/MouseLand/cellpose) by Carsen Stringer et al. (https://mouseland.github.io/) and the Zero-Cost Deep-Learning to Enhance Microscopy project (https://github.com/HenriquesLab/DeepLearning_Collab/wiki)."
      ]
    },
    {
      "cell_type": "markdown",
      "metadata": {
        "id": "IvyuR08OZfw4"
      },
      "source": [
        "# 0. Installation setup\n",
        "\n",
        "We will first install cellpose and other dependencies, check the GPU is working, and mount google drive to get your models and images."
      ]
    },
    {
      "cell_type": "markdown",
      "source": [
        "## Local installation"
      ],
      "metadata": {
        "id": "UNMQFs4NFXst"
      }
    },
    {
      "cell_type": "markdown",
      "source": [
        "Use the following instructions outside google collab:"
      ],
      "metadata": {
        "id": "mJJwEILgFyJ-"
      }
    },
    {
      "cell_type": "code",
      "source": [
        "# Create an environment with python 3.10\n",
        "conda create --name cellpose python=3.10\n",
        "# Activate that environment\n",
        "conda activate cellpose\n",
        "# Install cellpose with Graphical User Interface\n",
        "pip install cellpose[all] matplotlib plotly scikit-learn gdown"
      ],
      "metadata": {
        "id": "OBBs-FbKFu9t"
      },
      "execution_count": null,
      "outputs": []
    },
    {
      "cell_type": "markdown",
      "source": [
        "Now, you can connect google colab to your own computer in case you have a GPU by following: https://research.google.com/colaboratory/local-runtimes.html"
      ],
      "metadata": {
        "id": "KFzLHe9cqEtu"
      }
    },
    {
      "cell_type": "markdown",
      "source": [
        "## Colab installation"
      ],
      "metadata": {
        "id": "mRO-QzGhFaIt"
      }
    },
    {
      "cell_type": "markdown",
      "metadata": {
        "id": "QUfSFlZgp1aV"
      },
      "source": [
        "Install cellpose -- by default the torch GPU version is installed in COLAB notebook."
      ]
    },
    {
      "cell_type": "code",
      "execution_count": null,
      "metadata": {
        "id": "jlMnqge-lQ9s"
      },
      "outputs": [],
      "source": [
        "!pip install cellpose[all] matplotlib plotly scikit-learn"
      ]
    },
    {
      "cell_type": "markdown",
      "source": [
        "### All is working?"
      ],
      "metadata": {
        "id": "WgqfXU7aFi3s"
      }
    },
    {
      "cell_type": "markdown",
      "metadata": {
        "id": "e2cBEO1PLuO7"
      },
      "source": [
        "Check CUDA version and that GPU is working in cellpose and import other libraries."
      ]
    },
    {
      "cell_type": "code",
      "execution_count": null,
      "metadata": {
        "id": "Tt8hgC7rniP8"
      },
      "outputs": [],
      "source": [
        "!nvcc --version\n",
        "!nvidia-smi\n",
        "\n",
        "import os, shutil\n",
        "import numpy as np\n",
        "import matplotlib.pyplot as plt\n",
        "from cellpose import core, utils, io, models, metrics\n",
        "from glob import glob\n",
        "\n",
        "use_GPU = core.use_gpu()\n",
        "yn = ['NO', 'YES']\n",
        "print(f'>>> GPU activated? {yn[use_GPU]}')"
      ]
    },
    {
      "cell_type": "markdown",
      "metadata": {
        "id": "heEiTSWQZZ6y"
      },
      "source": [
        "## Mount google drive\n",
        "\n",
        "Mount your google drive to access all your image files, segmentations, and custom models. This also ensures that any models you train are saved to your google drive. If you'd like to try out the notebook without your own files, please download the sample images provided (optional step in Setup below)."
      ]
    },
    {
      "cell_type": "code",
      "execution_count": null,
      "metadata": {
        "cellView": "form",
        "id": "uGUNrjdRfVDs",
        "colab": {
          "base_uri": "https://localhost:8080/"
        },
        "outputId": "3fa6b016-513f-46ca-a69e-7f9b85fa072b"
      },
      "outputs": [
        {
          "output_type": "stream",
          "name": "stdout",
          "text": [
            "Mounted at /content/gdrive\n"
          ]
        }
      ],
      "source": [
        "\n",
        "#@markdown ###Run this cell to connect your Google Drive to Colab\n",
        "\n",
        "#@markdown * Click on the URL.\n",
        "\n",
        "#@markdown * Sign in your Google Account.\n",
        "\n",
        "#@markdown * Copy the authorization code.\n",
        "\n",
        "#@markdown * Enter the authorization code.\n",
        "\n",
        "#@markdown * Click on \"Files\" site on the right. Refresh the site. Your Google Drive folder should now be available here as \"drive\".\n",
        "\n",
        "#mounts user's Google Drive to Google Colab.\n",
        "\n",
        "from google.colab import drive\n",
        "drive.mount('/content/gdrive')\n",
        "\n",
        "\n"
      ]
    },
    {
      "cell_type": "markdown",
      "metadata": {
        "id": "d1Ta76yatmjH"
      },
      "source": [
        "## Download sample images (optional)\n",
        "\n",
        "If you want to test this protocol with some sample images, run the next code. These images are described [here](https://www.ebi.ac.uk/bioimage-archive/galleries/S-BIAD843-ai.html)."
      ]
    },
    {
      "cell_type": "code",
      "execution_count": null,
      "metadata": {
        "id": "OC7BIPW06z4t"
      },
      "outputs": [],
      "source": [
        "# !rm -rf labelled_data/"
      ]
    },
    {
      "cell_type": "code",
      "execution_count": null,
      "metadata": {
        "id": "EMG3YYFSdieb"
      },
      "outputs": [],
      "source": [
        "import gdown\n",
        "from natsort import natsorted\n",
        "\n",
        "!rm -rf labelled_data/\n",
        "\n",
        "# Download data from google drive\n",
        "url = 'https://drive.google.com/uc?id=1gXmuJlNYXLxAZypwEb2dhOs0t9LxL04p'\n",
        "gdown.download(url, 'labelled_data.tar.gz', quiet=False)\n",
        "\n",
        "!tar -xzvf labelled_data.tar.gz\n",
        "!rm labelled_data.tar.gz\n",
        "\n",
        "# Copy folder to 'initial_segmentation'\n",
        "!cp -r labelled_data/raw labelled_data/initial_segmentation/\n",
        "!cp -r labelled_data/raw labelled_data/denoised_raw/\n",
        "!cp -r labelled_data/raw labelled_data/improved_model/"
      ]
    },
    {
      "cell_type": "markdown",
      "source": [
        "# 1. Initial segmentation: Cellpose\n",
        "\n",
        "Cellpose is a deep learning software that can segment cells in 2D and 3D.\n",
        "\n",
        "**We highlty recommend to do the initial segmentation using the Cellpose graphical user interface (gui).**\n"
      ],
      "metadata": {
        "id": "R7Zz3cKE6UMG"
      }
    },
    {
      "cell_type": "markdown",
      "source": [
        "## (LOCAL ONLY) Graphical User Interface (GUI) with a single image\n",
        "\n",
        "Open one of the 3D images and select the best parameters based on visual inspection."
      ],
      "metadata": {
        "id": "AiMy4cEqI1ON"
      }
    },
    {
      "cell_type": "code",
      "source": [
        "!python -m cellpose --Zstack"
      ],
      "metadata": {
        "colab": {
          "base_uri": "https://localhost:8080/"
        },
        "id": "1rsoAvcGlSip",
        "outputId": "8b6bc80b-39dd-4327-a402-e431dfb0cf68"
      },
      "execution_count": null,
      "outputs": [
        {
          "output_type": "stream",
          "name": "stdout",
          "text": [
            "2024-11-06 11:44:46,520 [INFO] WRITING LOG OUTPUT TO /home/pablo/.cellpose/run.log\r\n",
            "2024-11-06 11:44:46,520 [INFO] \r\n",
            "cellpose version: \t3.1.0 \r\n",
            "platform:       \tlinux \r\n",
            "python version: \t3.10.15 \r\n",
            "torch version:  \t2.5.1+cu124\n",
            "2024-11-06 11:44:46,817 [INFO] ** TORCH CUDA version installed and working. **\n",
            "GUI_INFO: loading image: /media/pablo/d7c61090-024c-469a-930c-f5ada47fb049/PabloVicenteMunuera/3D-deep-segmentation-protocol/labelled_data/raw/WD1.1_17-03_WT_MP.tif\n",
            "2024-11-06 11:45:02,118 [INFO] reading tiff with 105 planes\n",
            "100%|███████████████████████████████████████| 105/105 [00:00<00:00, 2382.20it/s]\n",
            "GUI_INFO: converted to float and normalized values to 0.0->255.0\n",
            "GUI_INFO: normalization checked: computing saturation levels (and optionally filtered image)\n",
            "{'lowhigh': None, 'percentile': [1.0, 99.0], 'normalize': True, 'norm3D': True, 'sharpen_radius': 0, 'smooth_radius': 0, 'tile_norm_blocksize': 0, 'tile_norm_smooth3D': 1, 'invert': False}\n",
            "[0, 255.0]\n",
            "GUI_INFO: clearing restored image\n",
            "one-click_cyto3\n",
            "2024-11-06 11:46:21,149 [INFO] >> denoise_cyto3 << model set to be used\n",
            "2024-11-06 11:46:21,159 [INFO] ** TORCH CUDA version installed and working. **\n",
            "2024-11-06 11:46:21,159 [INFO] >>>> using GPU (CUDA)\n",
            "2024-11-06 11:46:21,294 [INFO] >>>> model diam_mean =  30.000 (ROIs rescaled to this size during training)\n",
            "GUI_INFO: channels:  [0, 0]\n",
            "GUI_INFO: normalize_params:  {'lowhigh': None, 'percentile': [1.0, 99.0], 'normalize': True, 'norm3D': True, 'sharpen_radius': 0, 'smooth_radius': 0, 'tile_norm_blocksize': 0, 'tile_norm_smooth3D': 1, 'invert': False}\n",
            "GUI_INFO: diameter (before upsampling):  30.0\n",
            "(105, 512, 512, 1)\n",
            "2024-11-06 11:46:21,324 [INFO] multi-stack tiff read in as having 105 planes 1 channels\n",
            "2024-11-06 11:46:21,547 [INFO] 0%|          | 0/105 [00:00<?, ?it/s]\n",
            "2024-11-06 11:46:28,492 [INFO] 100%|##########| 105/105 [00:06<00:00, 15.12it/s]\n",
            "2024-11-06 11:46:28,554 [INFO] imgs denoised in 7.09s\n",
            "(105, 512, 512, 1)\n",
            "2024-11-06 11:46:28,586 [INFO] one-click_cyto3 finished in 7.437 sec\n"
          ]
        }
      ]
    },
    {
      "cell_type": "markdown",
      "source": [
        "## Code to run with all images"
      ],
      "metadata": {
        "id": "YkkR8R1WIv93"
      }
    },
    {
      "cell_type": "code",
      "execution_count": null,
      "metadata": {
        "id": "vDu4Ixjo588O",
        "cellView": "form"
      },
      "outputs": [],
      "source": [
        "# model name and path\n",
        "\n",
        "# model name and path\n",
        "#@markdown ###Name of the pretrained model:\n",
        "from cellpose import models\n",
        "initial_model = \"cyto3\" #@param [\"cyto\", \"cyto3\",\"nuclei\",\"tissuenet_cp3\", \"livecell_cp3\", \"yeast_PhC_cp3\", \"yeast_BF_cp3\", \"bact_phase_cp3\", \"bact_fluor_cp3\", \"deepbacs_cp3\", \"scratch\"]\n",
        "\n",
        "#@markdown ###Path to images:\n",
        "\n",
        "input_dir = \"labelled_data/initial_segmentation\" #@param {type:\"string\"}\n",
        "\n",
        "#@markdown ###Channel Parameters:\n",
        "\n",
        "Channel_to_use_for_segmentation = \"Grayscale\" #@param [\"Grayscale\", \"Blue\", \"Green\", \"Red\"]\n",
        "\n",
        "# Here we match the channel to number\n",
        "if Channel_to_use_for_segmentation == \"Grayscale\":\n",
        "  chan = 0\n",
        "elif Channel_to_use_for_segmentation == \"Blue\":\n",
        "  chan = 3\n",
        "elif Channel_to_use_for_segmentation == \"Green\":\n",
        "  chan = 2\n",
        "elif Channel_to_use_for_segmentation == \"Red\":\n",
        "  chan = 1\n",
        "\n",
        "#@markdown ### Segmentation parameters:\n",
        "\n",
        "#@markdown Diameter of cells (set to zero to use diameter from training set):\n",
        "diameter =  60#@param {type:\"number\"}\n",
        "#@markdown Threshold on cellprob output to seed cell masks (set lower to include more pixels or higher to include fewer, e.g. in range from (-6, 6)):\n",
        "cellprob_threshold=0 #@param {type:\"slider\", min:-6, max:6, step:1}\n",
        "#@markdown Stitch 2D masks into a 3D volume using a stitch_threshold on IOU:\n",
        "stitch_threshold=0.05 #@param {type:\"slider\", min:0, max:1, step:0.01}\n",
        "#@markdown Smooth flows with gaussian filter of this stddev\n",
        "dP_smooth=0.0 #@param {type:\"slider\", min:0, max:1, step:0.01}\n",
        "#@markdown Volumetric stacks do not always have the same sampling in XY as they do in Z\n",
        "anisotropy=1.0 #@param {type:\"slider\", min:0, max:2, step:0.01}"
      ]
    },
    {
      "cell_type": "code",
      "source": [
        "run_str = f'python -m cellpose --use_gpu --save_tif --Zstack --verbose --dir {input_dir} --pretrained_model {initial_model} --chan {chan} --diameter {diameter} --stitch_threshold {stitch_threshold} --dP_smooth {dP_smooth} --anisotropy {anisotropy}'\n",
        "print(run_str)\n",
        "!$run_str"
      ],
      "metadata": {
        "id": "jpB5tFpJRXbv"
      },
      "execution_count": null,
      "outputs": []
    },
    {
      "cell_type": "markdown",
      "source": [
        "### Visualising images"
      ],
      "metadata": {
        "id": "mT1rmaHNdGAJ"
      }
    },
    {
      "cell_type": "code",
      "source": [
        "import matplotlib\n",
        "import matplotlib.pyplot as plt\n",
        "\n",
        "def visualize_3d_sections(image, masks, segmented=True, num_sections=3):\n",
        "    \"\"\"\n",
        "    Visualizes different random sections of the 3D image and its segmentation.\n",
        "\n",
        "    Args:\n",
        "        image: A 3D numpy array representing the image.\n",
        "        masks: A 3D numpy array representing the cell masks.\n",
        "        num_sections: The number of random sections to visualize.\n",
        "    \"\"\"\n",
        "\n",
        "    z_dim = image.shape[0]\n",
        "\n",
        "    # Generate 'num_sections' random numbers\n",
        "    random_sections = np.random.randint(0, z_dim, num_sections)\n",
        "\n",
        "    # Sort the random numbers in ascending order\n",
        "    random_sections = np.sort(random_sections)\n",
        "\n",
        "    # Create a colormap for all the sections\n",
        "    cmap = matplotlib.colormaps.get_cmap('prism')\n",
        "\n",
        "    for id in range(num_sections):\n",
        "        z_slice = random_sections[id]\n",
        "        plt.figure(figsize=(10, 5))\n",
        "        plt.subplot(1, 2, 1)\n",
        "        plt.imshow(image[z_slice], cmap='gray')\n",
        "        plt.title(f\"Image - Z Slice: {z_slice}\")\n",
        "\n",
        "        plt.subplot(1, 2, 2)\n",
        "        if segmented:\n",
        "          plt.imshow(masks[z_slice], cmap)\n",
        "          plt.title(f\"Segmentation - Z Slice: {z_slice}\")\n",
        "        else:\n",
        "          plt.imshow(masks[z_slice], cmap='gray')\n",
        "          plt.title(f\"Image - Z Slice: {z_slice}\")\n",
        "        plt.show()\n",
        "\n",
        "# Get images and masks\n",
        "files = io.get_image_files(input_dir, '_cp_masks')\n",
        "images = [io.imread(f) for f in files]\n",
        "masks = [io.imread(f.replace('.tif', '_cp_masks.tif')) for f in files]\n",
        "\n",
        "visualize_3d_sections(images[3], masks[3])"
      ],
      "metadata": {
        "id": "Lp5hy7dzf6bV"
      },
      "execution_count": null,
      "outputs": []
    },
    {
      "cell_type": "markdown",
      "source": [
        "## Segmentation evaluation metrics: biology-based\n",
        "Common metrics used to evaluate the quality of a segmentation are: IoU (Intersection over Union), Dice coefficient, ... However, these metrics are not always suitable for biological images. We have developed a new metric that is more biologically relevant. It also helped us to improve the segmentation results from our manual annotations.\n",
        "\n",
        "\n"
      ],
      "metadata": {
        "id": "jg62dH2zsoXt"
      }
    },
    {
      "cell_type": "code",
      "source": [
        "from cellpose import io\n",
        "import numpy as np\n",
        "from scipy import ndimage\n",
        "\n",
        "\n",
        "def count_good_cells(mask_img, min_percentage=85):\n",
        "  \"\"\"\n",
        "  Count the number of cells that are present in a 'min_percentage' of slices.\n",
        "  Developed by Giulia Paci\n",
        "  @mask_img: 3D mask image\n",
        "  @min_percentage: minimum percentage of slices that a cell must be present in to be considered a good cell\n",
        "  return: number of good cells and number of bad cells\n",
        "  \"\"\"\n",
        "  z_planes = mask_img.shape[0]\n",
        "\n",
        "  # Minimum of number of slices for a cell to be correct\n",
        "  target_n_planes = (min_percentage / 100 ) * z_planes\n",
        "  #print(f'Minimum number of z-planes is: {target_n_planes}')\n",
        "\n",
        "  # Count the number of good cells\n",
        "  unique_ids = np.unique(mask_img)\n",
        "  count_good = 0\n",
        "  count_bad = 0\n",
        "\n",
        "  # Loop\n",
        "  for cell_id in unique_ids:\n",
        "    if cell_id == 0:\n",
        "      continue\n",
        "\n",
        "    # Get the voxels of the current cell\n",
        "    current_img = mask_img == cell_id\n",
        "\n",
        "    # Get the position of the voxels\n",
        "    binary_img_pos = np.where(current_img)\n",
        "\n",
        "    # Check if they are connected by using connected components\n",
        "    _, num_objects = ndimage.label(current_img)\n",
        "\n",
        "    if num_objects > 2:\n",
        "      count_bad = count_bad + 1\n",
        "      continue\n",
        "\n",
        "    # Get only the unique Z position of the voxels\n",
        "    unique_z_position = np.unique(binary_img_pos[0])\n",
        "\n",
        "    # Count the number of slices that the cell is present in\n",
        "    if len(unique_z_position) > target_n_planes:\n",
        "        count_good = count_good + 1\n",
        "    else:\n",
        "        count_bad = count_bad + 1\n",
        "\n",
        "  return count_good, count_bad\n",
        "\n",
        "\n",
        "# Get evaluation of segmentation\n",
        "files = io.get_image_files(input_dir, '_cp_masks')\n",
        "for file in files:\n",
        "  print(f'File name: {file}')\n",
        "  mask = io.imread(file.replace('.tif', '_cp_masks.tif'))\n",
        "  good_cells, bad_cells = count_good_cells(mask)\n",
        "  print(f'Number of good cells: {good_cells} and bad cells: {bad_cells}')\n",
        "\n"
      ],
      "metadata": {
        "id": "b5LwS0FwAcw6"
      },
      "execution_count": null,
      "outputs": []
    },
    {
      "cell_type": "markdown",
      "source": [
        "### Comparison 1: Stitch threshold 0.5"
      ],
      "metadata": {
        "id": "-wri_gk9t4aH"
      }
    },
    {
      "cell_type": "code",
      "source": [
        "run_str = f'python -m cellpose --use_gpu --save_tif --Zstack --verbose --dir {input_dir} --pretrained_model cyto3 --chan 0 --diameter {diameter} --stitch_threshold 0.5'\n",
        "print(run_str)\n",
        "!$run_str\n",
        "\n",
        "# Get evaluation of segmentation\n",
        "files = io.get_image_files(input_dir, '_cp_masks')\n",
        "for file in files:\n",
        "  print(f'File name: {file}')\n",
        "  mask = io.imread(file.replace('.tif', '_cp_masks.tif'))\n",
        "  good_cells, bad_cells = count_good_cells(mask)\n",
        "  print(f'Number of good cells: {good_cells} and bad cells: {bad_cells}')"
      ],
      "metadata": {
        "id": "vUGRb3tOt4rj"
      },
      "execution_count": null,
      "outputs": []
    },
    {
      "cell_type": "markdown",
      "source": [
        "### Comparison 2: Final best"
      ],
      "metadata": {
        "id": "n8Xiprnqtzzu"
      }
    },
    {
      "cell_type": "code",
      "source": [
        "run_str = f'python -m cellpose --use_gpu --save_tif --Zstack --verbose --dir {input_dir} --pretrained_model cyto3 --chan 0 --diameter {diameter} --stitch_threshold 0.05'\n",
        "print(run_str)\n",
        "!$run_str\n",
        "\n",
        "# Get evaluation of segmentation\n",
        "files = io.get_image_files(input_dir, '_cp_masks')\n",
        "for file in files:\n",
        "  print(f'File name: {file}')\n",
        "  mask = io.imread(file.replace('.tif', '_cp_masks.tif'))\n",
        "  good_cells, bad_cells = count_good_cells(mask)\n",
        "  print(f'Number of good cells: {good_cells} and bad cells: {bad_cells}')"
      ],
      "metadata": {
        "id": "GiLO4Tlstsfn"
      },
      "execution_count": null,
      "outputs": []
    },
    {
      "cell_type": "markdown",
      "source": [
        "## Ground truth\n",
        "\n",
        "We have segmented our data."
      ],
      "metadata": {
        "id": "9SZ_PDQvxLvo"
      }
    },
    {
      "cell_type": "code",
      "source": [
        "labelled_data = \"labelled_data/segmented\"\n",
        "files = io.get_image_files(labelled_data, '_cp_masks')\n",
        "\n",
        "# Get evaluation of segmentation\n",
        "for file in files:\n",
        "  print(f'File name: {file}')\n",
        "  mask = io.imread(file)\n",
        "  good_cells, bad_cells = count_good_cells(mask)\n",
        "  print(f'Number of good cells: {good_cells} and bad cells: {bad_cells}')"
      ],
      "metadata": {
        "id": "tjNBWTqAxRYu"
      },
      "execution_count": null,
      "outputs": []
    },
    {
      "cell_type": "markdown",
      "source": [
        "# 2. Improving raw images for segmentation: Denoising\n",
        "A very common approach to improve classical segmentation algorithms is to denoise the images. This is done by applying a filter to the images that removes the noise while preserving the structures of interest.\n",
        "We have tried different denoising algorithms, but none of them improved the segmentation results."
      ],
      "metadata": {
        "id": "35eTukvj_HSv"
      }
    },
    {
      "cell_type": "code",
      "execution_count": null,
      "metadata": {
        "id": "D6FbDJPlOuRD",
        "cellView": "form"
      },
      "outputs": [],
      "source": [
        "# model name and path\n",
        "\n",
        "# model name and path\n",
        "#@markdown ###Name of the pretrained model:\n",
        "from cellpose import models\n",
        "restore_type = \"oneclick_cyto3\" #@param [\"oneclick_cyto3\", \"denoise_cyto3\", \"deblur_cyto3\", \"upsample_cyto3\", \"denoise_cyto2\", \"deblur_cyto2\", \"upsample_cyto2\", \"oneclick_cyto2\", \"denoise_nuclei\", \"deblur_nuclei\", \"upsample_nuclei\", \"oneclick_nuclei\"]\n",
        "\n",
        "#@markdown ###Path to images:\n",
        "\n",
        "input_dir = \"labelled_data/denoised_raw\" #@param {type:\"string\"}\n",
        "\n",
        "#@markdown ###Channel Parameters:\n",
        "\n",
        "Channel_to_use_for_segmentation = \"Grayscale\" #@param [\"Grayscale\", \"Blue\", \"Green\", \"Red\"]\n",
        "\n",
        "# Here we match the channel to number\n",
        "if Channel_to_use_for_segmentation == \"Grayscale\":\n",
        "  chan = 0\n",
        "elif Channel_to_use_for_segmentation == \"Blue\":\n",
        "  chan = 3\n",
        "elif Channel_to_use_for_segmentation == \"Green\":\n",
        "  chan = 2\n",
        "elif Channel_to_use_for_segmentation == \"Red\":\n",
        "  chan = 1\n",
        "\n",
        "#@markdown ### Segmentation parameters:\n",
        "\n",
        "#@markdown Diameter of cells (set to zero to use diameter from training set):\n",
        "diameter =  60#@param {type:\"number\"}\n",
        "#@markdown Threshold on cellprob output to seed cell masks (set lower to include more pixels or higher to include fewer, e.g. in range from (-6, 6)):\n",
        "cellprob_threshold=0 #@param {type:\"slider\", min:-6, max:6, step:1}\n",
        "#@markdown Stitch 2D masks into a 3D volume using a stitch_threshold on IOU:\n",
        "stitch_threshold=0.05 #@param {type:\"slider\", min:0, max:1, step:0.01}\n",
        "#@markdown Smooth flows with gaussian filter of this stddev\n",
        "dP_smooth=0.0 #@param {type:\"slider\", min:0, max:1, step:0.01}\n",
        "#@markdown Volumetric stacks do not always have the same sampling in XY as they do in Z\n",
        "anisotropy=1.0 #@param {type:\"slider\", min:0, max:2, step:0.01}"
      ]
    },
    {
      "cell_type": "code",
      "source": [
        "# Copy folder to 'initial_segmentation'\n",
        "run_str = f'python -m cellpose --save_tif --Zstack --use_gpu --verbose --dir {input_dir} --restore_type {restore_type} --diameter {diameter} --stitch_threshold {stitch_threshold} --dP_smooth {dP_smooth} --anisotropy {anisotropy}'\n",
        "print(run_str)\n",
        "!$run_str"
      ],
      "metadata": {
        "id": "YT1TrFfTOfd3"
      },
      "execution_count": null,
      "outputs": []
    },
    {
      "cell_type": "code",
      "source": [
        "# Get evaluation of segmentation\n",
        "files = io.get_image_files(input_dir, '_cp_masks')\n",
        "for file in files:\n",
        "  print(f'File name: {file}')\n",
        "  mask = io.imread(file.replace('.tif', '_cp_masks.tif'))\n",
        "  good_cells, bad_cells = count_good_cells(mask)\n",
        "  print(f'Number of good cells: {good_cells} and bad cells: {bad_cells}')"
      ],
      "metadata": {
        "id": "GNS9O_bOwC_t"
      },
      "execution_count": null,
      "outputs": []
    },
    {
      "cell_type": "markdown",
      "source": [
        "We can also do it at the same time and we seem to obtain better results, which is not possible on the GUI"
      ],
      "metadata": {
        "id": "APWP2-5THv-h"
      }
    },
    {
      "cell_type": "markdown",
      "source": [
        "# 3. Automated corrections: Tracking cells in 3D with TrackMate in FIJI\n",
        "We still had issues with our segmentation results, especially when cells were touching each other. Therefore, we used TrackMate to track cells in 3D and then stitched the cells together. This allowed us to obtain a more accurate segmentation of the cells. The process is explained in the manuscript associated with this notebook."
      ],
      "metadata": {
        "id": "3-up0gcY_a9O"
      }
    },
    {
      "cell_type": "markdown",
      "source": [
        "# 4. Manual segmentation"
      ],
      "metadata": {
        "id": "IyW0d9L-lV3M"
      }
    },
    {
      "cell_type": "markdown",
      "source": [
        "Follow: https://napari.org/stable/tutorials/fundamentals/installation.html#napari-installation"
      ],
      "metadata": {
        "id": "8jLF3CZAlkAI"
      }
    },
    {
      "cell_type": "code",
      "source": [
        "!conda create -y -n napari-env -c conda-forge python=3.10\n",
        "!conda activate napari-env\n",
        "!python -m pip install \"napari[all]\"\n",
        "!python -m pip install devbio-napari\n",
        "!napari"
      ],
      "metadata": {
        "id": "MwaQNye6lZZF"
      },
      "execution_count": null,
      "outputs": []
    },
    {
      "cell_type": "markdown",
      "source": [
        "# 5. Refining the segmentation: Cellpose fine-tuning\n",
        "Cellpose fine-tuning is a feature that allows you to improve the segmentation results by training a new model on your own data."
      ],
      "metadata": {
        "id": "L7DxZhik4aQd"
      }
    },
    {
      "cell_type": "markdown",
      "source": [
        "### From 3D images to 2D images"
      ],
      "metadata": {
        "id": "iL7nKT4u5cPR"
      }
    },
    {
      "cell_type": "code",
      "source": [
        "# Code developed by Alvaro Miranda de Larra and Pablo Vicente-Munuera\n",
        "import os\n",
        "import tifffile as tiff\n",
        "\n",
        "def iterative_image_splicer(input_dir, output_dir, segmented_input=False):\n",
        "\n",
        "  # Create the output directory if it doesn't exist\n",
        "  os.makedirs(output_dir, exist_ok=True)\n",
        "\n",
        "  # Get a list of all .tif files in the input directory\n",
        "  tif_files = [f for f in os.listdir(input_dir) if f.endswith('.tif')]\n",
        "\n",
        "  # Iterate over each 3D image\n",
        "  for tif_file in tif_files:\n",
        "    if not tif_file.startswith('.'):\n",
        "      # Load the multi-directory TIFF image\n",
        "      with tiff.TiffFile(os.path.join(input_dir, tif_file)) as tif:\n",
        "          image = tif.asarray()\n",
        "\n",
        "      # Get the shape of the 3D image\n",
        "      z, y, x = image.shape\n",
        "      print(image.shape)\n",
        "      # Generate 2D images along XY, XZ, and YZ coordinates\n",
        "\n",
        "      for z_coord in range(z):\n",
        "          xy_image = image[z_coord, :, :]  # XY plane at the current Z coordinate\n",
        "\n",
        "          # Save the 2D images with appropriate names\n",
        "          base_name = os.path.splitext(tif_file)[0]\n",
        "          # Remove '_segmented' from base_name\n",
        "          base_name = base_name.replace('_segmented', '')\n",
        "          if segmented_input:\n",
        "            tiff.imwrite(os.path.join(output_dir, f'{base_name}_XY_Z{z_coord}_masks.tif'), xy_image)\n",
        "          else:\n",
        "            tiff.imwrite(os.path.join(output_dir, f'{base_name}_XY_Z{z_coord}.tif'), xy_image)\n",
        "\n",
        "      for xy_coord in range(x):\n",
        "          xz_image = image[:, :, xy_coord]  # XZ plane at the current Y coordinate\n",
        "          yz_image = image[:, xy_coord, :]  # YZ plane at the current X coordinate\n",
        "\n",
        "          if segmented_input:\n",
        "            tiff.imwrite(os.path.join(output_dir, f'{base_name}_XZ_Y{xy_coord}_masks.tif'), xz_image)\n",
        "            tiff.imwrite(os.path.join(output_dir, f'{base_name}_YZ_X{xy_coord}_masks.tif'), yz_image)\n",
        "          else:\n",
        "            tiff.imwrite(os.path.join(output_dir, f'{base_name}_XZ_Y{xy_coord}.tif'), xz_image)\n",
        "            tiff.imwrite(os.path.join(output_dir, f'{base_name}_YZ_X{xy_coord}.tif'), yz_image)\n",
        "\n",
        "!rm -rf labelled_data_2D/\n",
        "iterative_image_splicer('labelled_data/raw/', 'labelled_data_2D')\n",
        "iterative_image_splicer('labelled_data/segmented/', 'labelled_data_2D', segmented_input=True)"
      ],
      "metadata": {
        "id": "z1qBJXePXD9B"
      },
      "execution_count": null,
      "outputs": []
    },
    {
      "cell_type": "markdown",
      "metadata": {
        "id": "3j4m33Fuw5vm"
      },
      "source": [
        "what the training images look like + their labels"
      ]
    },
    {
      "cell_type": "code",
      "execution_count": null,
      "metadata": {
        "id": "ldNwr_zxMVha"
      },
      "outputs": [],
      "source": [
        "from natsort import natsorted\n",
        "from glob import glob\n",
        "\n",
        "train_files = natsorted([f for f in glob('labelled_data_2D/*.tif')\n",
        "                        if '_masks' not in f])\n",
        "train_seg = natsorted(glob('labelled_data_2D/*_masks.tif'))\n",
        "\n",
        "num_images_to_show = 5\n",
        "\n",
        "# Generate 'num_sections' random numbers\n",
        "random_sections = np.random.randint(0, len(train_files), num_images_to_show)\n",
        "\n",
        "# Visualize a few training and segmentation images\n",
        "for k,f in enumerate(random_sections):\n",
        "    img = io.imread(train_files[f])\n",
        "    plt.figure(figsize=(10, 5))\n",
        "    plt.subplot(1, 2, 1)\n",
        "    plt.imshow(img, cmap='gray')\n",
        "    plt.title(f\"Image - name: {train_files[f]}\")\n",
        "\n",
        "    # Get the corresponding segmentation image\n",
        "    seg = io.imread(train_seg[f])\n",
        "    plt.subplot(1, 2, 2)\n",
        "    plt.imshow(seg, cmap='prism')\n",
        "    plt.show()\n"
      ]
    },
    {
      "cell_type": "markdown",
      "source": [
        "### Split into training and set test\n"
      ],
      "metadata": {
        "id": "CKOhEhZHkVpZ"
      }
    },
    {
      "cell_type": "code",
      "source": [
        "!rm -rf test/\n",
        "!rm -rf train/\n",
        "\n",
        "# Divide sets into training and set test\n",
        "from sklearn.model_selection import train_test_split\n",
        "\n",
        "train_files = natsorted([f for f in glob('labelled_data_2D/*.tif')\n",
        "                        if '_masks.tif' not in f])\n",
        "train_files, test_files = train_test_split(train_files, test_size=0.2, random_state=42)\n",
        "\n",
        "# Save files from train into 'train'\n",
        "os.makedirs('train', exist_ok=True)\n",
        "for f in train_files:\n",
        "    shutil.copy(f, 'train')\n",
        "    # Get the '_mask' from the file f\n",
        "    shutil.copy(f.replace('.tif', '_masks.tif'), 'train')\n",
        "\n",
        "# Save files from test into 'test'\n",
        "os.makedirs('test', exist_ok=True)\n",
        "for f in test_files:\n",
        "    shutil.copy(f, 'test')\n",
        "    # Get the '_mask' from the file f\n",
        "    shutil.copy(f.replace('.tif', '_masks.tif'), 'test')"
      ],
      "metadata": {
        "id": "AAbu2H2Xh8Uo"
      },
      "execution_count": null,
      "outputs": []
    },
    {
      "cell_type": "markdown",
      "metadata": {
        "id": "VfE75htF0l84"
      },
      "source": [
        "### Train model on manual annotations\n",
        "\n",
        "Skip this step if you already have a pretrained model.\n",
        "\n",
        "Fill out the form below with the paths to your data and the parameters to start training."
      ]
    },
    {
      "cell_type": "markdown",
      "metadata": {
        "id": "lLdKNWQ4jxy5"
      },
      "source": [
        "### Training parameters\n",
        "\n",
        "<font size = 4> **Paths for training, predictions and results**\n",
        "\n",
        "\n",
        "<font size = 4>**`train_dir:`, `test_dir`:** These are the paths to your folders train_dir (with images and masks of training images) and test_dir (with images and masks of test images). You can leave the test_dir blank, but it's recommended to have some test images to check the model's performance. To find the paths of the folders containing the respective datasets, go to your Files on the left of the notebook, navigate to the folder containing your files and copy the path by right-clicking on the folder, **Copy path** and pasting it into the right box below.\n",
        "\n",
        "<font size = 4>**`initial_model`:** Choose a model from the cellpose [model zoo](https://cellpose.readthedocs.io/en/latest/models.html#model-zoo) to start from.\n",
        "\n",
        "<font size = 4>**`model_name`**: Enter the path where your model will be saved once trained (for instance your result folder).\n",
        "\n",
        "<font size = 4>**Training parameters**\n",
        "\n",
        "<font size = 4>**`number_of_epochs`:** Input how many epochs (rounds) the network will be trained. At least 100 epochs are recommended, but sometimes 250 epochs are necessary, particularly from scratch. **Default value: 100**\n",
        "\n"
      ]
    },
    {
      "cell_type": "code",
      "execution_count": null,
      "metadata": {
        "id": "XQI4aUxCjz3n",
        "colab": {
          "base_uri": "https://localhost:8080/"
        },
        "outputId": "fb311df3-9f1d-449a-c411-ff3ce35b50ee",
        "cellView": "form"
      },
      "outputs": [
        {
          "output_type": "stream",
          "name": "stdout",
          "text": [
            "Default advanced parameters enabled\n"
          ]
        }
      ],
      "source": [
        "#@markdown ###Path to images and masks:\n",
        "\n",
        "train_dir = \"train\" #@param {type:\"string\"}\n",
        "test_dir = \"test\" #@param {type:\"string\"}\n",
        "#Define where the patch file will be saved\n",
        "base = \"/content\"\n",
        "\n",
        "# model name and path\n",
        "#@markdown ###Name of the pretrained model to start from and new model name:\n",
        "from cellpose import models\n",
        "initial_model = \"cyto3\" #@param [\"cyto\", \"cyto3\",\"nuclei\",\"tissuenet_cp3\", \"livecell_cp3\", \"yeast_PhC_cp3\", \"yeast_BF_cp3\", \"bact_phase_cp3\", \"bact_fluor_cp3\", \"deepbacs_cp3\", \"scratch\"]\n",
        "model_name = \"CP_improved_2500\" #@param {type:\"string\"}\n",
        "\n",
        "# other parameters for training.\n",
        "#@markdown ###Training Parameters:\n",
        "#@markdown Number of epochs:\n",
        "n_epochs =  250#@param {type:\"number\"}\n",
        "\n",
        "Channel_to_use_for_training = \"Grayscale\" #@param [\"Grayscale\", \"Blue\", \"Green\", \"Red\"]\n",
        "\n",
        "# @markdown ###If you have a secondary channel that can be used for training, for instance nuclei, choose it here:\n",
        "\n",
        "Second_training_channel= \"None\" #@param [\"None\", \"Blue\", \"Green\", \"Red\"]\n",
        "\n",
        "\n",
        "#@markdown ###Advanced Parameters\n",
        "\n",
        "Use_Default_Advanced_Parameters = True #@param {type:\"boolean\"}\n",
        "#@markdown ###If not, please input:\n",
        "learning_rate = 0.1 #@param {type:\"number\"}\n",
        "weight_decay = 0.0001 #@param {type:\"number\"}\n",
        "\n",
        "if (Use_Default_Advanced_Parameters):\n",
        "  print(\"Default advanced parameters enabled\")\n",
        "  learning_rate = 0.1\n",
        "  weight_decay = 0.0001\n",
        "\n",
        "#here we check that no model with the same name already exist, if so delete\n",
        "model_path = train_dir + 'models/'\n",
        "if os.path.exists(model_path+'/'+model_name):\n",
        "  print(\"!! WARNING: \"+model_name+\" already exists and will be deleted in the following cell !!\")\n",
        "\n",
        "if len(test_dir) == 0:\n",
        "  test_dir = None\n",
        "\n",
        "# Here we match the channel to number\n",
        "if Channel_to_use_for_training == \"Grayscale\":\n",
        "  chan = 0\n",
        "elif Channel_to_use_for_training == \"Blue\":\n",
        "  chan = 3\n",
        "elif Channel_to_use_for_training == \"Green\":\n",
        "  chan = 2\n",
        "elif Channel_to_use_for_training == \"Red\":\n",
        "  chan = 1\n",
        "\n",
        "\n",
        "if Second_training_channel == \"Blue\":\n",
        "  chan2 = 3\n",
        "elif Second_training_channel == \"Green\":\n",
        "  chan2 = 2\n",
        "elif Second_training_channel == \"Red\":\n",
        "  chan2 = 1\n",
        "elif Second_training_channel == \"None\":\n",
        "  chan2 = 0\n",
        "\n",
        "if initial_model=='scratch':\n",
        "  initial_model = 'None'"
      ]
    },
    {
      "cell_type": "markdown",
      "metadata": {
        "id": "3JRxBPmatrK7"
      },
      "source": [
        "### Train new model\n",
        "\n",
        "Using settings from form above, train model in notebook."
      ]
    },
    {
      "cell_type": "code",
      "execution_count": null,
      "metadata": {
        "id": "mQsv-Iz7m_CF"
      },
      "outputs": [],
      "source": [
        "run_str = f'python -m cellpose --use_gpu --verbose --train --dir {train_dir} --pretrained_model {initial_model} --chan {chan} --n_epochs {n_epochs} --learning_rate {learning_rate} --weight_decay {weight_decay} --model_name_out {model_name}'\n",
        "if test_dir is not None:\n",
        "    run_str += f' --test_dir {test_dir}'\n",
        "print(run_str)\n",
        "!$run_str"
      ]
    },
    {
      "cell_type": "markdown",
      "metadata": {
        "id": "cdH0j8-L6FuB"
      },
      "source": [
        "## Evaluate on test data (optional)"
      ]
    },
    {
      "cell_type": "code",
      "execution_count": null,
      "metadata": {
        "cellView": "form",
        "id": "zheUcb318c1B"
      },
      "outputs": [],
      "source": [
        "# model name and path\n",
        "\n",
        "# model name and path\n",
        "#@markdown ###Name of the pretrained model:\n",
        "from cellpose import models\n",
        "initial_model = \"CP_improved_2500\" #@param {type:\"string\"}\n",
        "\n",
        "#@markdown ###Path to images:\n",
        "\n",
        "input_dir = \"labelled_data/improved_model\" #@param {type:\"string\"}\n",
        "\n",
        "#@markdown ###Channel Parameters:\n",
        "\n",
        "Channel_to_use_for_segmentation = \"Grayscale\" #@param [\"Grayscale\", \"Blue\", \"Green\", \"Red\"]\n",
        "\n",
        "# Here we match the channel to number\n",
        "if Channel_to_use_for_segmentation == \"Grayscale\":\n",
        "  chan = 0\n",
        "elif Channel_to_use_for_segmentation == \"Blue\":\n",
        "  chan = 3\n",
        "elif Channel_to_use_for_segmentation == \"Green\":\n",
        "  chan = 2\n",
        "elif Channel_to_use_for_segmentation == \"Red\":\n",
        "  chan = 1\n",
        "\n",
        "#@markdown ### Segmentation parameters:\n",
        "\n",
        "#@markdown Diameter of cells (set to zero to use diameter from training set):\n",
        "diameter =  60#@param {type:\"number\"}\n",
        "#@markdown Threshold on cellprob output to seed cell masks (set lower to include more pixels or higher to include fewer, e.g. in range from (-6, 6)):\n",
        "cellprob_threshold=0 #@param {type:\"slider\", min:-6, max:6, step:1}\n",
        "#@markdown Stitch 2D masks into a 3D volume using a stitch_threshold on IOU:\n",
        "stitch_threshold=0.05 #@param {type:\"slider\", min:0, max:1, step:0.01}\n",
        "#@markdown Smooth flows with gaussian filter of this stddev\n",
        "dP_smooth=0.0 #@param {type:\"slider\", min:0, max:1, step:0.01}\n",
        "#@markdown Volumetric stacks do not always have the same sampling in XY as they do in Z\n",
        "anisotropy=1.0 #@param {type:\"slider\", min:0, max:2, step:0.01}"
      ]
    },
    {
      "cell_type": "code",
      "source": [
        "run_str = f'python -m cellpose --use_gpu --save_tif --Zstack --verbose --dir {input_dir} --pretrained_model train/models/{initial_model} --chan {chan} --diameter {diameter} --stitch_threshold {stitch_threshold} --dP_smooth {dP_smooth} --anisotropy {anisotropy}'\n",
        "print(run_str)\n",
        "!$run_str"
      ],
      "metadata": {
        "id": "gEn4jTkW8KC5"
      },
      "execution_count": null,
      "outputs": []
    },
    {
      "cell_type": "code",
      "source": [
        "# Get evaluation of segmentation\n",
        "files = io.get_image_files(input_dir, '_cp_masks')\n",
        "for file in files:\n",
        "  print(f'File name: {file}')\n",
        "  mask = io.imread(file.replace('.tif', '_cp_masks.tif'))\n",
        "  good_cells, bad_cells = count_good_cells(mask)\n",
        "  print(f'Number of good cells: {good_cells} and bad cells: {bad_cells}')"
      ],
      "metadata": {
        "id": "73wx0H6FEbfE"
      },
      "execution_count": null,
      "outputs": []
    }
  ],
  "metadata": {
    "accelerator": "GPU",
    "colab": {
      "provenance": [],
      "gpuType": "T4",
      "collapsed_sections": [
        "UNMQFs4NFXst",
        "mRO-QzGhFaIt",
        "heEiTSWQZZ6y",
        "d1Ta76yatmjH",
        "R7Zz3cKE6UMG",
        "AiMy4cEqI1ON",
        "mT1rmaHNdGAJ",
        "jg62dH2zsoXt",
        "9SZ_PDQvxLvo",
        "35eTukvj_HSv",
        "3-up0gcY_a9O",
        "IyW0d9L-lV3M"
      ],
      "include_colab_link": true
    },
    "kernelspec": {
      "display_name": "Python 3",
      "name": "python3"
    },
    "language_info": {
      "codemirror_mode": {
        "name": "ipython",
        "version": 3
      },
      "file_extension": ".py",
      "mimetype": "text/x-python",
      "name": "python",
      "nbconvert_exporter": "python",
      "pygments_lexer": "ipython3",
      "version": "3.9.18"
    }
  },
  "nbformat": 4,
  "nbformat_minor": 0
}